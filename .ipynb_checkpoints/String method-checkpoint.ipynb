{
 "cells": [
  {
   "cell_type": "code",
   "execution_count": 1,
   "id": "17b6795c",
   "metadata": {},
   "outputs": [],
   "source": [
    "name=\"anthony\""
   ]
  },
  {
   "cell_type": "code",
   "execution_count": 2,
   "id": "773abc4b",
   "metadata": {},
   "outputs": [
    {
     "data": {
      "text/plain": [
       "'anthony'"
      ]
     },
     "execution_count": 2,
     "metadata": {},
     "output_type": "execute_result"
    }
   ],
   "source": [
    "name"
   ]
  },
  {
   "cell_type": "code",
   "execution_count": 3,
   "id": "819498f8",
   "metadata": {},
   "outputs": [
    {
     "data": {
      "text/plain": [
       "str"
      ]
     },
     "execution_count": 3,
     "metadata": {},
     "output_type": "execute_result"
    }
   ],
   "source": [
    "type (name)"
   ]
  },
  {
   "cell_type": "code",
   "execution_count": 4,
   "id": "f7400fc2",
   "metadata": {},
   "outputs": [
    {
     "ename": "TypeError",
     "evalue": "unsupported operand type(s) for -: 'int' and 'str'",
     "output_type": "error",
     "traceback": [
      "\u001b[1;31m---------------------------------------------------------------------------\u001b[0m",
      "\u001b[1;31mTypeError\u001b[0m                                 Traceback (most recent call last)",
      "Cell \u001b[1;32mIn[4], line 1\u001b[0m\n\u001b[1;32m----> 1\u001b[0m name [\u001b[38;5;241;43m0\u001b[39;49m\u001b[38;5;241;43m-\u001b[39;49m\u001b[38;5;124;43m\"\u001b[39;49m\u001b[38;5;124;43mp\u001b[39;49m\u001b[38;5;124;43m\"\u001b[39;49m]\n",
      "\u001b[1;31mTypeError\u001b[0m: unsupported operand type(s) for -: 'int' and 'str'"
     ]
    }
   ],
   "source": [
    "name [0-\"p\"]"
   ]
  },
  {
   "cell_type": "code",
   "execution_count": 10,
   "id": "22e52727",
   "metadata": {},
   "outputs": [],
   "source": [
    "last_letter = name [1:]"
   ]
  },
  {
   "cell_type": "code",
   "execution_count": 11,
   "id": "2c1c42b6",
   "metadata": {},
   "outputs": [
    {
     "data": {
      "text/plain": [
       "'nthony'"
      ]
     },
     "execution_count": 11,
     "metadata": {},
     "output_type": "execute_result"
    }
   ],
   "source": [
    "last_letter\n"
   ]
  },
  {
   "cell_type": "code",
   "execution_count": 12,
   "id": "b70b03bf",
   "metadata": {},
   "outputs": [
    {
     "data": {
      "text/plain": [
       "'pnthony'"
      ]
     },
     "execution_count": 12,
     "metadata": {},
     "output_type": "execute_result"
    }
   ],
   "source": [
    "\"p\"+ last_letter"
   ]
  },
  {
   "cell_type": "code",
   "execution_count": 19,
   "id": "5ccc82a0",
   "metadata": {},
   "outputs": [],
   "source": [
    "x=' Hello World '"
   ]
  },
  {
   "cell_type": "code",
   "execution_count": 20,
   "id": "374e4fd3",
   "metadata": {},
   "outputs": [
    {
     "data": {
      "text/plain": [
       "' Hello World '"
      ]
     },
     "execution_count": 20,
     "metadata": {},
     "output_type": "execute_result"
    }
   ],
   "source": [
    "x"
   ]
  },
  {
   "cell_type": "code",
   "execution_count": 21,
   "id": "a4a3ed2d",
   "metadata": {},
   "outputs": [],
   "source": [
    "x=x+ ' it is a beautiful'"
   ]
  },
  {
   "cell_type": "code",
   "execution_count": 22,
   "id": "d6678d8a",
   "metadata": {},
   "outputs": [
    {
     "data": {
      "text/plain": [
       "' Hello World  it is a beautiful'"
      ]
     },
     "execution_count": 22,
     "metadata": {},
     "output_type": "execute_result"
    }
   ],
   "source": [
    "x"
   ]
  },
  {
   "cell_type": "code",
   "execution_count": 23,
   "id": "70445f21",
   "metadata": {},
   "outputs": [],
   "source": [
    "letter = 'z'"
   ]
  },
  {
   "cell_type": "code",
   "execution_count": 24,
   "id": "ad9b0d8a",
   "metadata": {},
   "outputs": [
    {
     "data": {
      "text/plain": [
       "'z'"
      ]
     },
     "execution_count": 24,
     "metadata": {},
     "output_type": "execute_result"
    }
   ],
   "source": [
    "letter"
   ]
  },
  {
   "cell_type": "code",
   "execution_count": 25,
   "id": "38ccfd93",
   "metadata": {},
   "outputs": [
    {
     "data": {
      "text/plain": [
       "'zzzzzzzzzzzzzzzzzzzz'"
      ]
     },
     "execution_count": 25,
     "metadata": {},
     "output_type": "execute_result"
    }
   ],
   "source": [
    "letter*20"
   ]
  },
  {
   "cell_type": "markdown",
   "id": "5dedd52b",
   "metadata": {},
   "source": []
  },
  {
   "cell_type": "code",
   "execution_count": 26,
   "id": "44d5dd6b",
   "metadata": {},
   "outputs": [
    {
     "data": {
      "text/plain": [
       "'4050'"
      ]
     },
     "execution_count": 26,
     "metadata": {},
     "output_type": "execute_result"
    }
   ],
   "source": [
    "'40'+ '50'"
   ]
  },
  {
   "cell_type": "code",
   "execution_count": 27,
   "id": "fcc08461",
   "metadata": {},
   "outputs": [],
   "source": [
    "a = '40'+'50'"
   ]
  },
  {
   "cell_type": "code",
   "execution_count": 28,
   "id": "0407c87c",
   "metadata": {},
   "outputs": [
    {
     "data": {
      "text/plain": [
       "str"
      ]
     },
     "execution_count": 28,
     "metadata": {},
     "output_type": "execute_result"
    }
   ],
   "source": [
    "type (a)"
   ]
  },
  {
   "cell_type": "code",
   "execution_count": 31,
   "id": "01bb2057",
   "metadata": {},
   "outputs": [],
   "source": [
    "x= 'Hello world'"
   ]
  },
  {
   "cell_type": "code",
   "execution_count": 32,
   "id": "99b48c01",
   "metadata": {},
   "outputs": [
    {
     "data": {
      "text/plain": [
       "'Hello world'"
      ]
     },
     "execution_count": 32,
     "metadata": {},
     "output_type": "execute_result"
    }
   ],
   "source": [
    "x"
   ]
  },
  {
   "cell_type": "code",
   "execution_count": 33,
   "id": "da6f99be",
   "metadata": {},
   "outputs": [
    {
     "data": {
      "text/plain": [
       "'HELLO WORLD'"
      ]
     },
     "execution_count": 33,
     "metadata": {},
     "output_type": "execute_result"
    }
   ],
   "source": [
    "x.upper()"
   ]
  },
  {
   "cell_type": "code",
   "execution_count": 34,
   "id": "678db164",
   "metadata": {},
   "outputs": [
    {
     "data": {
      "text/plain": [
       "'Hello world'"
      ]
     },
     "execution_count": 34,
     "metadata": {},
     "output_type": "execute_result"
    }
   ],
   "source": [
    "x"
   ]
  },
  {
   "cell_type": "code",
   "execution_count": 35,
   "id": "78b17d86",
   "metadata": {},
   "outputs": [
    {
     "data": {
      "text/plain": [
       "str"
      ]
     },
     "execution_count": 35,
     "metadata": {},
     "output_type": "execute_result"
    }
   ],
   "source": [
    "type (x)"
   ]
  },
  {
   "cell_type": "code",
   "execution_count": 36,
   "id": "a8805f3d",
   "metadata": {},
   "outputs": [
    {
     "data": {
      "text/plain": [
       "'hello world'"
      ]
     },
     "execution_count": 36,
     "metadata": {},
     "output_type": "execute_result"
    }
   ],
   "source": [
    "x.lower ()"
   ]
  },
  {
   "cell_type": "code",
   "execution_count": 37,
   "id": "02fcd566",
   "metadata": {},
   "outputs": [
    {
     "data": {
      "text/plain": [
       "['Hello', 'world']"
      ]
     },
     "execution_count": 37,
     "metadata": {},
     "output_type": "execute_result"
    }
   ],
   "source": [
    "x.split ()"
   ]
  },
  {
   "cell_type": "code",
   "execution_count": 38,
   "id": "b7b741a9",
   "metadata": {},
   "outputs": [
    {
     "data": {
      "text/plain": [
       "'Hello world'"
      ]
     },
     "execution_count": 38,
     "metadata": {},
     "output_type": "execute_result"
    }
   ],
   "source": [
    "x"
   ]
  },
  {
   "cell_type": "code",
   "execution_count": 39,
   "id": "7eb342a2",
   "metadata": {},
   "outputs": [
    {
     "data": {
      "text/plain": [
       "['Hello', 'world']"
      ]
     },
     "execution_count": 39,
     "metadata": {},
     "output_type": "execute_result"
    }
   ],
   "source": [
    "x.split ()"
   ]
  },
  {
   "cell_type": "code",
   "execution_count": 43,
   "id": "b3eeafa1",
   "metadata": {},
   "outputs": [
    {
     "data": {
      "text/plain": [
       "['Hell', ' w', 'rld']"
      ]
     },
     "execution_count": 43,
     "metadata": {},
     "output_type": "execute_result"
    }
   ],
   "source": [
    "x.split('o')"
   ]
  },
  {
   "cell_type": "code",
   "execution_count": 45,
   "id": "4d9c283c",
   "metadata": {},
   "outputs": [
    {
     "data": {
      "text/plain": [
       "'\\nHey this is  a multiline comment\\ni am a multiline\\n'"
      ]
     },
     "execution_count": 45,
     "metadata": {},
     "output_type": "execute_result"
    }
   ],
   "source": [
    "'''\n",
    "Hey this is  a multiline comment\n",
    "i am a multiline\n",
    "'''"
   ]
  },
  {
   "cell_type": "code",
   "execution_count": 47,
   "id": "b37dc61a",
   "metadata": {},
   "outputs": [
    {
     "name": "stdout",
     "output_type": "stream",
     "text": [
      "Hello my name is  Daniel\n"
     ]
    }
   ],
   "source": [
    "my_name= ' Daniel'\n",
    "print ('Hello my name is '+my_name)"
   ]
  },
  {
   "cell_type": "code",
   "execution_count": 48,
   "id": "1e5cb92c",
   "metadata": {},
   "outputs": [],
   "source": [
    "#fomat method"
   ]
  },
  {
   "cell_type": "code",
   "execution_count": 49,
   "id": "0ae2daf6",
   "metadata": {},
   "outputs": [],
   "source": [
    "#string here {} {} {}'.format {something1,something2,something3}"
   ]
  },
  {
   "cell_type": "code",
   "execution_count": 50,
   "id": "2c91bf0b",
   "metadata": {},
   "outputs": [
    {
     "name": "stdout",
     "output_type": "stream",
     "text": [
      "I am a student of Medhavi Skills University\n"
     ]
    }
   ],
   "source": [
    "print ('I am a student of {}'.format ('Medhavi Skills University'))"
   ]
  },
  {
   "cell_type": "code",
   "execution_count": 51,
   "id": "3b2f5cf8",
   "metadata": {},
   "outputs": [
    {
     "name": "stdout",
     "output_type": "stream",
     "text": [
      "The quick brown fox\n"
     ]
    }
   ],
   "source": [
    "print ('The {q} {b} {f}' .format (b='brown',f='fox',q= 'quick'))"
   ]
  },
  {
   "cell_type": "code",
   "execution_count": 53,
   "id": "1ff29c12",
   "metadata": {},
   "outputs": [],
   "source": [
    "name ='python'"
   ]
  },
  {
   "cell_type": "code",
   "execution_count": 54,
   "id": "6df4f763",
   "metadata": {},
   "outputs": [
    {
     "data": {
      "text/plain": [
       "'python'"
      ]
     },
     "execution_count": 54,
     "metadata": {},
     "output_type": "execute_result"
    }
   ],
   "source": [
    "name"
   ]
  },
  {
   "cell_type": "code",
   "execution_count": 55,
   "id": "feb5e6e8",
   "metadata": {},
   "outputs": [],
   "source": [
    "last_letter =name [1:]"
   ]
  },
  {
   "cell_type": "code",
   "execution_count": 56,
   "id": "d1dd5936",
   "metadata": {},
   "outputs": [
    {
     "data": {
      "text/plain": [
       "'ython'"
      ]
     },
     "execution_count": 56,
     "metadata": {},
     "output_type": "execute_result"
    }
   ],
   "source": [
    "last_letter\n"
   ]
  },
  {
   "cell_type": "code",
   "execution_count": 58,
   "id": "e5731a58",
   "metadata": {},
   "outputs": [
    {
     "data": {
      "text/plain": [
       "'cython'"
      ]
     },
     "execution_count": 58,
     "metadata": {},
     "output_type": "execute_result"
    }
   ],
   "source": [
    "'c' + last_letter"
   ]
  },
  {
   "cell_type": "code",
   "execution_count": 59,
   "id": "329c4911",
   "metadata": {},
   "outputs": [
    {
     "name": "stdout",
     "output_type": "stream",
     "text": [
      "The hello I am a python programmer\n"
     ]
    }
   ],
   "source": [
    "print ('The {s1} {s2} {s3}' .format (s1='hello',s2='I am a',s3= 'python programmer'))"
   ]
  },
  {
   "cell_type": "code",
   "execution_count": 60,
   "id": "04be92e0",
   "metadata": {},
   "outputs": [],
   "source": [
    "x= \"the quick brown fox\""
   ]
  },
  {
   "cell_type": "code",
   "execution_count": 61,
   "id": "68c2e0b4",
   "metadata": {},
   "outputs": [
    {
     "data": {
      "text/plain": [
       "'the quick brown fox'"
      ]
     },
     "execution_count": 61,
     "metadata": {},
     "output_type": "execute_result"
    }
   ],
   "source": [
    "x"
   ]
  },
  {
   "cell_type": "code",
   "execution_count": 63,
   "id": "4745cacc",
   "metadata": {},
   "outputs": [
    {
     "data": {
      "text/plain": [
       "'THE QUICK BROWN FOX'"
      ]
     },
     "execution_count": 63,
     "metadata": {},
     "output_type": "execute_result"
    }
   ],
   "source": [
    "x.upper ()"
   ]
  },
  {
   "cell_type": "code",
   "execution_count": 15,
   "id": "eb765cc1",
   "metadata": {},
   "outputs": [
    {
     "name": "stdout",
     "output_type": "stream",
     "text": [
      "My name is Daniel and my age is 18\n"
     ]
    }
   ],
   "source": [
    "name='Daniel' \n",
    "age = '18'\n",
    "print(f'My name is {name} and my age is {age}')"
   ]
  },
  {
   "cell_type": "code",
   "execution_count": null,
   "id": "098f9bb5",
   "metadata": {},
   "outputs": [],
   "source": []
  }
 ],
 "metadata": {
  "kernelspec": {
   "display_name": "Python 3 (ipykernel)",
   "language": "python",
   "name": "python3"
  },
  "language_info": {
   "codemirror_mode": {
    "name": "ipython",
    "version": 3
   },
   "file_extension": ".py",
   "mimetype": "text/x-python",
   "name": "python",
   "nbconvert_exporter": "python",
   "pygments_lexer": "ipython3",
   "version": "3.10.9"
  }
 },
 "nbformat": 4,
 "nbformat_minor": 5
}
